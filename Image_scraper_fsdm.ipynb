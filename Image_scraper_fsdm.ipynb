{
 "cells": [
  {
   "cell_type": "code",
   "execution_count": 36,
   "id": "086a96f9-1217-4e64-9e9b-092bf3828971",
   "metadata": {},
   "outputs": [],
   "source": [
    "import requests\n",
    "import logging\n",
    "import os\n",
    "from bs4 import BeautifulSoup\n",
    "from urllib.request import urlopen"
   ]
  },
  {
   "cell_type": "code",
   "execution_count": 37,
   "id": "069491fa-f055-4178-80a9-f242dc65a62d",
   "metadata": {},
   "outputs": [],
   "source": [
    "save_dir = \"images/\"\n",
    "if not os.path.exists(save_dir):\n",
    "    os.makedirs(save_dir)"
   ]
  },
  {
   "cell_type": "code",
   "execution_count": 38,
   "id": "cad62095-d3bc-4936-bf99-aeff7d5efb6e",
   "metadata": {},
   "outputs": [],
   "source": [
    "query = \"iron man\""
   ]
  },
  {
   "cell_type": "code",
   "execution_count": 39,
   "id": "ebefbd00-5da5-4049-8154-0fbb1b2f8714",
   "metadata": {},
   "outputs": [],
   "source": [
    "response = requests.get(f\"https://www.google.com/search?sxsrf=AB5stBjiBUA7OUgTPwCxSFQBsUcfgjqFmw:1690959954657&q={query}&tbm=isch&source=lnms&sa=X&ved=2ahUKEwjtwrTbtL2AAxVmxDgGHTlzC7UQ0pQJegQICxAB&biw=1366&bih=611&dpr=1\")"
   ]
  },
  {
   "cell_type": "code",
   "execution_count": 40,
   "id": "086af94b-61fd-473c-987e-7c8f4badff26",
   "metadata": {},
   "outputs": [],
   "source": [
    "soup = BeautifulSoup(response.content,\"html.parser\")"
   ]
  },
  {
   "cell_type": "code",
   "execution_count": 41,
   "id": "4e7e2216-d8de-49ab-baff-d38defbdbdfc",
   "metadata": {},
   "outputs": [
    {
     "data": {
      "text/plain": [
       "<!DOCTYPE html PUBLIC \"-//WAPFORUM//DTD XHTML Mobile 1.0//EN\" \"http://www.wapforum.org/DTD/xhtml-mobile10.dtd\">\n",
       "<html lang=\"en-IN\" xmlns=\"http://www.w3.org/1999/xhtml\"><head><meta content=\"application/xhtml+xml; charset=utf-8\" http-equiv=\"Content-Type\"/><meta content=\"no-cache\" name=\"Cache-Control\"/><title>iron man - Google Search</title><style>a{text-decoration:none;color:inherit}a:hover{text-decoration:underline}a img{border:0}body{font-family:arial,sans-serif;padding:8px;margin:0 auto;max-width:700px;min-width:240px;}.FbhRzb{border-left:thin solid #dadce0;border-right:thin solid #dadce0;border-top:thin solid #dadce0;height:40px;overflow:hidden}.n692Zd{margin-bottom:10px}.cvifge{height:40px;border-spacing:0}.QvGUP{height:40px;padding:0 8px 0 8px;vertical-align:top}.O4cRJf{height:40px;width:100%;padding:0;padding-right:16px}.O1ePr{height:40px;padding:0;vertical-align:top}.kgJEQe{height:36px;width:98px;vertical-align:top;margin-top:4px}.lXLRf{vertical-align:top}.MhzMZd{border:0;vertical-align:middle;font-size:14px;height:40px;padding:0;width:100%;padding-left:16px}.xB0fq{height:40px;border:none;font-size:14px;background-color:#1a73e8;color:#fff;padding:0 16px;margin:0;vertical-align:top;cursor:pointer}.xB0fq:focus{border:1px solid #1a73e8}.M7pB2{border:thin solid #dadce0;margin:0 0 3px 0;font-size:13px;font-weight:500;height:40px}.euZec{width:100%;height:40px;text-align:center;border-spacing:0}table.euZec td{padding:0;width:25%}.QIqI7{display:inline-block;padding-top:4px;font-weight:bold;color:#4285f4}.EY24We{border-bottom:2px solid #4285f4}.CsQyDc{display:inline-block;color:#70757a}.TuS8Ad{font-size:14px}.HddGcc{padding:8px;color:#70757a}.dzp8ae{font-weight:bold;color:#3c4043}.rEM8G{color:#70757a}.bookcf{table-layout:fixed;width:100%;border-spacing:0}.InWNIe{text-align:center}.uZgmoc{border:thin solid #dadce0;color:#70757a;font-size:14px;text-align:center;table-layout:fixed;width:100%}.frGj1b{display:block;padding:12px 0 12px 0;width:100%}.BnJWBc{text-align:center;padding:6px 0 13px 0;height:35px}.e3goi{vertical-align:top;padding:0;height:180px}.GpQGbf{margin:auto;border-collapse:collapse;border-spacing:0;width:100%}</style></head><body><style>.X6ZCif{color:#202124;font-size:11px;line-height:16px;display:inline-block;padding-top:2px;overflow:hidden;padding-bottom:4px;width:100%}.TwVfHd{border-radius:16px;border:thin solid #dadce0;display:inline-block;padding:8px 8px;margin-right:8px;margin-bottom:4px}.yekiAe{background-color:#dadce0}.mnTahd{width:100%}.ezO2md{border:thin solid #dadce0;padding:12px 16px 12px 16px;margin-bottom:10px;font-family:arial,sans-serif}.lIMUZd{font-family:arial,sans-serif}.IkMU6e{border-spacing:0}.SjCsie{width:100%}.EnarA{text-align:center}.NZWO1b{width:162px;height:140px;line-height:140px;overflow:'hidden';text-align:center}.yWs4tf{text-align:center;margin:auto;vertical-align:middle;max-width:162px;max-height:140px}.jB2rPd{padding-top:2px;padding-bottom:8px;}.fYyStc{word-break:break-word}.ynsChf{display:block;white-space:nowrap;overflow:hidden;text-overflow:ellipsis}.Fj3V3b{color:#1967d2;font-size:14px;line-height:20px}.FrIlee{color:#202124;font-size:11px;line-height:16px}.F9iS2e{color:#70757a;font-size:11px;line-height:16px}.WMQ2Le{color:#70757a;font-size:12px;line-height:16px}.x3G5ab{color:#202124;font-size:12px;line-height:16px}.fuLhoc{color:#1967d2;font-size:16px;line-height:20px}.epoveb{font-size:24px;line-height:28px;font-weight:400;color:#202124}.dXDvrc{color:#0d652d;font-size:14px;line-height:20px;word-wrap:break-word}.dloBPe{font-weight:bold}.YVIcad{color:#70757a}.JkVVdd{color:#ea4335}.oXZRFd{color:#ea4335}.MQHtg{color:#fbbc04}.pyMRrb{color:#1e8e3e}.EtTZid{color:#1e8e3e}.M3vVJe{color:#1967d2}.qXLe6d{display:block}.NHQNef{font-style:italic}.Cb8Z7c{white-space:pre}a.ZWRArf{text-decoration:none}a .CVA68e:hover{text-decoration:underline}</style><div class=\"n692Zd\"><div class=\"BnJWBc\"><a class=\"lXLRf\" href=\"/?sa=X&amp;biw=1366&amp;bih=611&amp;output=images&amp;ie=UTF-8&amp;tbm=isch&amp;ved=0ahUKEwjUkuPjyb2AAxX5cGwGHSVeBnIQPAgC\"><img alt=\"Google\" class=\"kgJEQe\" src=\"/images/branding/searchlogo/1x/googlelogo_desk_heirloom_color_150x55dp.gif\"/></a></div><div class=\"FbhRzb\"><form action=\"/search\"><input name=\"biw\" type=\"hidden\" value=\"1366\"/><input name=\"bih\" type=\"hidden\" value=\"611\"/><input name=\"ie\" type=\"hidden\" value=\"ISO-8859-1\"/><input name=\"tbm\" type=\"hidden\" value=\"isch\"/><input name=\"oq\" type=\"hidden\"/><input name=\"aqs\" type=\"hidden\"/><table class=\"cvifge\"><tr><td class=\"O4cRJf\"><input class=\"MhzMZd\" name=\"q\" type=\"text\" value=\"iron man\"/></td><td class=\"O1ePr\"><input class=\"xB0fq\" type=\"submit\" value=\"Search\"/></td></tr></table></form></div><div class=\"M7pB2\"><table class=\"euZec\"><tbody><tr><td><a class=\"CsQyDc\" href=\"/search?q=iron+man&amp;biw=1366&amp;bih=611&amp;ie=UTF-8&amp;source=lnms&amp;sa=X&amp;ved=0ahUKEwjUkuPjyb2AAxX5cGwGHSVeBnIQ_AUIBCgA\">ALL</a></td><td class=\"EY24We\"><span class=\"QIqI7\">IMAGES</span></td><td><a class=\"CsQyDc\" href=\"/search?q=iron+man&amp;biw=1366&amp;bih=611&amp;ie=UTF-8&amp;tbm=vid&amp;source=lnms&amp;sa=X&amp;ved=0ahUKEwjUkuPjyb2AAxX5cGwGHSVeBnIQ_AUIBigC\">VIDEOS</a></td><td><a class=\"CsQyDc\" href=\"/search?q=iron+man&amp;biw=1366&amp;bih=611&amp;ie=UTF-8&amp;tbm=nws&amp;source=lnms&amp;sa=X&amp;ved=0ahUKEwjUkuPjyb2AAxX5cGwGHSVeBnIQ_AUIBygD\">NEWS</a></td></tr></tbody></table></div></div><div class=\"X6ZCif\"><a class=\"TwVfHd\" href=\"/search?biw=1366&amp;bih=611&amp;ie=UTF-8&amp;tbm=isch&amp;q=iron+man&amp;chips=q:iron+man,g_1:drawing&amp;sa=X&amp;ved=0ahUKEwjUkuPjyb2AAxX5cGwGHSVeBnIQ4lYICygA\">drawing</a><a class=\"TwVfHd\" href=\"/search?biw=1366&amp;bih=611&amp;ie=UTF-8&amp;tbm=isch&amp;q=iron+man&amp;chips=q:iron+man,g_1:infinity+war&amp;sa=X&amp;ved=0ahUKEwjUkuPjyb2AAxX5cGwGHSVeBnIQ4lYIDCgB\">infinity war</a><a class=\"TwVfHd\" href=\"/search?biw=1366&amp;bih=611&amp;ie=UTF-8&amp;tbm=isch&amp;q=iron+man&amp;chips=q:iron+man,g_1:wallpaper&amp;sa=X&amp;ved=0ahUKEwjUkuPjyb2AAxX5cGwGHSVeBnIQ4lYIDSgC\">wallpaper</a><a class=\"TwVfHd\" href=\"/search?biw=1366&amp;bih=611&amp;ie=UTF-8&amp;tbm=isch&amp;q=iron+man&amp;chips=q:iron+man,g_1:suit&amp;sa=X&amp;ved=0ahUKEwjUkuPjyb2AAxX5cGwGHSVeBnIQ4lYIDigD\">suit</a><a class=\"TwVfHd\" href=\"/search?biw=1366&amp;bih=611&amp;ie=UTF-8&amp;tbm=isch&amp;q=iron+man&amp;chips=q:iron+man,g_1:avengers&amp;sa=X&amp;ved=0ahUKEwjUkuPjyb2AAxX5cGwGHSVeBnIQ4lYIDygE\">avengers</a><a class=\"TwVfHd\" href=\"/search?biw=1366&amp;bih=611&amp;ie=UTF-8&amp;tbm=isch&amp;q=iron+man&amp;chips=q:iron+man,g_1:lego&amp;sa=X&amp;ved=0ahUKEwjUkuPjyb2AAxX5cGwGHSVeBnIQ4lYIECgF\">lego</a><a class=\"TwVfHd\" href=\"/search?biw=1366&amp;bih=611&amp;ie=UTF-8&amp;tbm=isch&amp;q=iron+man&amp;chips=q:iron+man,g_1:marvel&amp;sa=X&amp;ved=0ahUKEwjUkuPjyb2AAxX5cGwGHSVeBnIQ4lYIESgG\">marvel</a><a class=\"TwVfHd\" href=\"/search?biw=1366&amp;bih=611&amp;ie=UTF-8&amp;tbm=isch&amp;q=iron+man&amp;chips=q:iron+man,g_1:movie&amp;sa=X&amp;ved=0ahUKEwjUkuPjyb2AAxX5cGwGHSVeBnIQ4lYIEigH\">movie</a><a class=\"TwVfHd\" href=\"/search?biw=1366&amp;bih=611&amp;ie=UTF-8&amp;tbm=isch&amp;q=iron+man&amp;chips=q:iron+man,g_1:arc+reactor&amp;sa=X&amp;ved=0ahUKEwjUkuPjyb2AAxX5cGwGHSVeBnIQ4lYIEygI\">arc reactor</a><a class=\"TwVfHd\" href=\"/search?biw=1366&amp;bih=611&amp;ie=UTF-8&amp;tbm=isch&amp;q=iron+man&amp;chips=q:iron+man,g_1:tony+stark&amp;sa=X&amp;ved=0ahUKEwjUkuPjyb2AAxX5cGwGHSVeBnIQ4lYIFCgJ\">tony stark</a></div><div><table class=\"GpQGbf\"><tr><td align=\"center\" class=\"e3goi\"><div class=\"mnTahd\"> <div> <div class=\"lIMUZd\"><div><table class=\"IkMU6e\"><tr><td><a href=\"/url?q=https://marvelcinematicuniverse.fandom.com/wiki/Iron_Man&amp;sa=U&amp;ved=2ahUKEwjUkuPjyb2AAxX5cGwGHSVeBnIQqoUBegQIAhAB&amp;usg=AOvVaw2c0of2Om88XP7PxnH35mNb\"><div class=\"NZWO1b\"><img alt=\"\" class=\"yWs4tf\" src=\"https://encrypted-tbn0.gstatic.com/images?q=tbn:ANd9GcQpv40CTTqqD-lev5owDD_YqzH7Va1aEIPCbgH08xlqJal8PthmppOtTVeH1g&amp;s\"/></div></a></td></tr><tr><td><a href=\"/url?q=https://marvelcinematicuniverse.fandom.com/wiki/Iron_Man&amp;sa=U&amp;ved=2ahUKEwjUkuPjyb2AAxX5cGwGHSVeBnIQr4kDegQIAhAC&amp;usg=AOvVaw10czEcizsvuJWsBQoTo3tW\"><div class=\"jB2rPd\"> <span class=\"qXLe6d x3G5ab\"> <span class=\"fYyStc\">Iron Man | Marvel Cinematic...</span> </span> <span class=\"qXLe6d F9iS2e\"> <span class=\"fYyStc\">marvelcinematicuniverse.fan...</span> </span> </div></a></td></tr></table></div></div> </div> </div></td><td align=\"center\" class=\"e3goi\"><div class=\"mnTahd\"> <div> <div class=\"lIMUZd\"><div><table class=\"IkMU6e\"><tr><td><a href=\"/url?q=https://www.imdb.com/title/tt0371746/&amp;sa=U&amp;ved=2ahUKEwjUkuPjyb2AAxX5cGwGHSVeBnIQqoUBegQIExAB&amp;usg=AOvVaw0OHgetNtYBn8Yengt4Pnn_\"><div class=\"NZWO1b\"><img alt=\"\" class=\"yWs4tf\" src=\"https://encrypted-tbn0.gstatic.com/images?q=tbn:ANd9GcQ4hmKA4kX0MuO8AuCuf2P3fmHZwutKDPQhfqb5f0ZC6UrPdvbkTjmAnOM1VQ&amp;s\"/></div></a></td></tr><tr><td><a href=\"/url?q=https://www.imdb.com/title/tt0371746/&amp;sa=U&amp;ved=2ahUKEwjUkuPjyb2AAxX5cGwGHSVeBnIQr4kDegQIExAC&amp;usg=AOvVaw10ZAvNcXgwx1Wo9sDjDL3P\"><div class=\"jB2rPd\"> <span class=\"qXLe6d x3G5ab\"> <span class=\"fYyStc\">Iron Man (2008) - IMDb</span> </span> <span class=\"qXLe6d F9iS2e\"> <span class=\"fYyStc\">www.imdb.com</span> </span> </div></a></td></tr></table></div></div> </div> </div></td><td align=\"center\" class=\"e3goi\"><div class=\"mnTahd\"> <div> <div class=\"lIMUZd\"><div><table class=\"IkMU6e\"><tr><td><a href=\"/url?q=https://www.britannica.com/topic/Iron-Man-comic-book-character&amp;sa=U&amp;ved=2ahUKEwjUkuPjyb2AAxX5cGwGHSVeBnIQqoUBegQIEhAB&amp;usg=AOvVaw2TJC-PDQ73shrur3TNXcwE\"><div class=\"NZWO1b\"><img alt=\"\" class=\"yWs4tf\" src=\"https://encrypted-tbn0.gstatic.com/images?q=tbn:ANd9GcQFrdtf_DOLVVikyaoWCaGNFys9OkLQwPPcE8MEevibR7zEsaKKqfc9VQkF3w&amp;s\"/></div></a></td></tr><tr><td><a href=\"/url?q=https://www.britannica.com/topic/Iron-Man-comic-book-character&amp;sa=U&amp;ved=2ahUKEwjUkuPjyb2AAxX5cGwGHSVeBnIQr4kDegQIEhAC&amp;usg=AOvVaw3PXMrHpcrRw0MHH0WxOyeZ\"><div class=\"jB2rPd\"> <span class=\"qXLe6d x3G5ab\"> <span class=\"fYyStc\">Iron Man | Creators,...</span> </span> <span class=\"qXLe6d F9iS2e\"> <span class=\"fYyStc\">www.britannica.com</span> </span> </div></a></td></tr></table></div></div> </div> </div></td><td align=\"center\" class=\"e3goi\"><div class=\"mnTahd\"> <div> <div class=\"lIMUZd\"><div><table class=\"IkMU6e\"><tr><td><a href=\"/url?q=https://marvel.fandom.com/wiki/Anthony_Stark_(Earth-616)&amp;sa=U&amp;ved=2ahUKEwjUkuPjyb2AAxX5cGwGHSVeBnIQqoUBegQIDhAB&amp;usg=AOvVaw2HiC7b6rMyPFs0MZbsBGfk\"><div class=\"NZWO1b\"><img alt=\"\" class=\"yWs4tf\" src=\"https://encrypted-tbn0.gstatic.com/images?q=tbn:ANd9GcS6EA32V2gQM5jmXCLcjiYjubHoLGWa8yoqShr7hj4Hy7itvUlYodOitHMYSw&amp;s\"/></div></a></td></tr><tr><td><a href=\"/url?q=https://marvel.fandom.com/wiki/Anthony_Stark_(Earth-616)&amp;sa=U&amp;ved=2ahUKEwjUkuPjyb2AAxX5cGwGHSVeBnIQr4kDegQIDhAC&amp;usg=AOvVaw1kmWgBxbbhkjizdNQBBlj7\"><div class=\"jB2rPd\"> <span class=\"qXLe6d x3G5ab\"> <span class=\"fYyStc\">Anthony Stark (Earth-616) |...</span> </span> <span class=\"qXLe6d F9iS2e\"> <span class=\"fYyStc\">marvel.fandom.com</span> </span> </div></a></td></tr></table></div></div> </div> </div></td></tr><tr><td align=\"center\" class=\"e3goi\"><div class=\"mnTahd\"> <div> <div class=\"lIMUZd\"><div><table class=\"IkMU6e\"><tr><td><a href=\"/url?q=https://en.wikipedia.org/wiki/Iron_Man&amp;sa=U&amp;ved=2ahUKEwjUkuPjyb2AAxX5cGwGHSVeBnIQqoUBegQIDBAB&amp;usg=AOvVaw3xURTeAvpPsmMyv0i6jwWL\"><div class=\"NZWO1b\"><img alt=\"\" class=\"yWs4tf\" src=\"https://encrypted-tbn0.gstatic.com/images?q=tbn:ANd9GcTI3nWdiiqilppvdddxch3w4U3XlLRLkPcJwHB_MGsP34CdlXN-r6cD_vL6MsA&amp;s\"/></div></a></td></tr><tr><td><a href=\"/url?q=https://en.wikipedia.org/wiki/Iron_Man&amp;sa=U&amp;ved=2ahUKEwjUkuPjyb2AAxX5cGwGHSVeBnIQr4kDegQIDBAC&amp;usg=AOvVaw1hKJYTCnA6tcNZhlr0OAfW\"><div class=\"jB2rPd\"> <span class=\"qXLe6d x3G5ab\"> <span class=\"fYyStc\">Iron Man - Wikipedia</span> </span> <span class=\"qXLe6d F9iS2e\"> <span class=\"fYyStc\">en.wikipedia.org</span> </span> </div></a></td></tr></table></div></div> </div> </div></td><td align=\"center\" class=\"e3goi\"><div class=\"mnTahd\"> <div> <div class=\"lIMUZd\"><div><table class=\"IkMU6e\"><tr><td><a href=\"/url?q=https://www.imdb.com/title/tt1300854/&amp;sa=U&amp;ved=2ahUKEwjUkuPjyb2AAxX5cGwGHSVeBnIQqoUBegQIChAB&amp;usg=AOvVaw3_kLAVdvSOY2IBoMLtmTf5\"><div class=\"NZWO1b\"><img alt=\"\" class=\"yWs4tf\" src=\"https://encrypted-tbn0.gstatic.com/images?q=tbn:ANd9GcRMM-NZB3_R2T9TuOlqLNtOlcdcQ_CGe-I4esG8O5xgfmpDZtCzxlWJHCMSrQ&amp;s\"/></div></a></td></tr><tr><td><a href=\"/url?q=https://www.imdb.com/title/tt1300854/&amp;sa=U&amp;ved=2ahUKEwjUkuPjyb2AAxX5cGwGHSVeBnIQr4kDegQIChAC&amp;usg=AOvVaw2xZu_DAKsjTOyXVFpzW1cK\"><div class=\"jB2rPd\"> <span class=\"qXLe6d x3G5ab\"> <span class=\"fYyStc\">Iron Man 3 (2013) - IMDb</span> </span> <span class=\"qXLe6d F9iS2e\"> <span class=\"fYyStc\">www.imdb.com</span> </span> </div></a></td></tr></table></div></div> </div> </div></td><td align=\"center\" class=\"e3goi\"><div class=\"mnTahd\"> <div> <div class=\"lIMUZd\"><div><table class=\"IkMU6e\"><tr><td><a href=\"/url?q=https://marvelcinematicuniverse.fandom.com/wiki/Iron_Man_Armor:_Mark_L&amp;sa=U&amp;ved=2ahUKEwjUkuPjyb2AAxX5cGwGHSVeBnIQqoUBegQIDxAB&amp;usg=AOvVaw1AfYCL_4A92TyFRkA992ux\"><div class=\"NZWO1b\"><img alt=\"\" class=\"yWs4tf\" src=\"https://encrypted-tbn0.gstatic.com/images?q=tbn:ANd9GcRukTwV81GQh79YZvvv2-OH_Fmzk1EqkVhvVCOS9q-TD69TLqEdk4Uivtlc0w&amp;s\"/></div></a></td></tr><tr><td><a href=\"/url?q=https://marvelcinematicuniverse.fandom.com/wiki/Iron_Man_Armor:_Mark_L&amp;sa=U&amp;ved=2ahUKEwjUkuPjyb2AAxX5cGwGHSVeBnIQr4kDegQIDxAC&amp;usg=AOvVaw0SaZEyySpd5b5AXHoXMFmo\"><div class=\"jB2rPd\"> <span class=\"qXLe6d x3G5ab\"> <span class=\"fYyStc\">Mark L Iron Man Armor |...</span> </span> <span class=\"qXLe6d F9iS2e\"> <span class=\"fYyStc\">marvelcinematicuniverse.fan...</span> </span> </div></a></td></tr></table></div></div> </div> </div></td><td align=\"center\" class=\"e3goi\"><div class=\"mnTahd\"> <div> <div class=\"lIMUZd\"><div><table class=\"IkMU6e\"><tr><td><a href=\"/url?q=https://www.ea.com/news/all-new-iron-man-video-game&amp;sa=U&amp;ved=2ahUKEwjUkuPjyb2AAxX5cGwGHSVeBnIQqoUBegQIERAB&amp;usg=AOvVaw1jnzloAUjVwX7pVAS-8Zz8\"><div class=\"NZWO1b\"><img alt=\"\" class=\"yWs4tf\" src=\"https://encrypted-tbn0.gstatic.com/images?q=tbn:ANd9GcRqhgft2UY9JVlwcnqQamR8iGlXMGk2-4u26R6xy7il2Bf7rXBdcW_NnI3sM94&amp;s\"/></div></a></td></tr><tr><td><a href=\"/url?q=https://www.ea.com/news/all-new-iron-man-video-game&amp;sa=U&amp;ved=2ahUKEwjUkuPjyb2AAxX5cGwGHSVeBnIQr4kDegQIERAC&amp;usg=AOvVaw1l-UT_3T4Q2MEFEsB72YKK\"><div class=\"jB2rPd\"> <span class=\"qXLe6d x3G5ab\"> <span class=\"fYyStc\">Marvel Entertainment and...</span> </span> <span class=\"qXLe6d F9iS2e\"> <span class=\"fYyStc\">www.ea.com</span> </span> </div></a></td></tr></table></div></div> </div> </div></td></tr><tr><td align=\"center\" class=\"e3goi\"><div class=\"mnTahd\"> <div> <div class=\"lIMUZd\"><div><table class=\"IkMU6e\"><tr><td><a href=\"/url?q=https://www.imdb.com/title/tt0371746/&amp;sa=U&amp;ved=2ahUKEwjUkuPjyb2AAxX5cGwGHSVeBnIQqoUBegQIDRAB&amp;usg=AOvVaw3gpqmzD_kp_pv6bTUSxcdO\"><div class=\"NZWO1b\"><img alt=\"\" class=\"yWs4tf\" src=\"https://encrypted-tbn0.gstatic.com/images?q=tbn:ANd9GcRPIi1S7BvW8RvJMq4Bvbr5Yi1rRkUG1E5WiV1BfQ--oYPHv6kNjT_5eDM6fQ&amp;s\"/></div></a></td></tr><tr><td><a href=\"/url?q=https://www.imdb.com/title/tt0371746/&amp;sa=U&amp;ved=2ahUKEwjUkuPjyb2AAxX5cGwGHSVeBnIQr4kDegQIDRAC&amp;usg=AOvVaw3kgXoZZ9tTSkjp84146Xoa\"><div class=\"jB2rPd\"> <span class=\"qXLe6d x3G5ab\"> <span class=\"fYyStc\">Iron Man (2008) - IMDb</span> </span> <span class=\"qXLe6d F9iS2e\"> <span class=\"fYyStc\">www.imdb.com</span> </span> </div></a></td></tr></table></div></div> </div> </div></td><td align=\"center\" class=\"e3goi\"><div class=\"mnTahd\"> <div> <div class=\"lIMUZd\"><div><table class=\"IkMU6e\"><tr><td><a href=\"/url?q=https://www.imdb.com/title/tt0371746/&amp;sa=U&amp;ved=2ahUKEwjUkuPjyb2AAxX5cGwGHSVeBnIQqoUBegQIEBAB&amp;usg=AOvVaw06LitM_Ts-lq_AUkGSMqOZ\"><div class=\"NZWO1b\"><img alt=\"\" class=\"yWs4tf\" src=\"https://encrypted-tbn0.gstatic.com/images?q=tbn:ANd9GcSMg5Hr42K0nLGyuvBsLW6MIdaUi2KWgAGAEbpeVRam-I_8xEGuoB0xX0TiCCU&amp;s\"/></div></a></td></tr><tr><td><a href=\"/url?q=https://www.imdb.com/title/tt0371746/&amp;sa=U&amp;ved=2ahUKEwjUkuPjyb2AAxX5cGwGHSVeBnIQr4kDegQIEBAC&amp;usg=AOvVaw3OcDO5CH3GMuu3gpGH404j\"><div class=\"jB2rPd\"> <span class=\"qXLe6d x3G5ab\"> <span class=\"fYyStc\">Iron Man (2008) - IMDb</span> </span> <span class=\"qXLe6d F9iS2e\"> <span class=\"fYyStc\">www.imdb.com</span> </span> </div></a></td></tr></table></div></div> </div> </div></td><td align=\"center\" class=\"e3goi\"><div class=\"mnTahd\"> <div> <div class=\"lIMUZd\"><div><table class=\"IkMU6e\"><tr><td><a href=\"/url?q=https://m.timesofindia.com/entertainment/english/hollywood/news/amidst-rumours-of-robert-downey-jrs-return-as-iron-man-marvel-shares-an-update/articleshow/98147991.cms&amp;sa=U&amp;ved=2ahUKEwjUkuPjyb2AAxX5cGwGHSVeBnIQqoUBegQICRAB&amp;usg=AOvVaw0aqBHrlQ40s6lA4N9XbkyO\"><div class=\"NZWO1b\"><img alt=\"\" class=\"yWs4tf\" src=\"https://encrypted-tbn0.gstatic.com/images?q=tbn:ANd9GcTJ9-YqMcRu0UkxY9dCJEwyeD9ubXTxbgIKbRLHeRt12uHVxEGHxfWVA422yUA&amp;s\"/></div></a></td></tr><tr><td><a href=\"/url?q=https://m.timesofindia.com/entertainment/english/hollywood/news/amidst-rumours-of-robert-downey-jrs-return-as-iron-man-marvel-shares-an-update/articleshow/98147991.cms&amp;sa=U&amp;ved=2ahUKEwjUkuPjyb2AAxX5cGwGHSVeBnIQr4kDegQICRAC&amp;usg=AOvVaw04ld4B1C9rYQ2mrmIbDPy4\"><div class=\"jB2rPd\"> <span class=\"qXLe6d x3G5ab\"> <span class=\"fYyStc\">Amidst rumours of Robert...</span> </span> <span class=\"qXLe6d F9iS2e\"> <span class=\"fYyStc\">m.timesofindia.com</span> </span> </div></a></td></tr></table></div></div> </div> </div></td><td align=\"center\" class=\"e3goi\"><div class=\"mnTahd\"> <div> <div class=\"lIMUZd\"><div><table class=\"IkMU6e\"><tr><td><a href=\"/url?q=https://www.pinterest.com/pin/iron-man--1053842381532983740/&amp;sa=U&amp;ved=2ahUKEwjUkuPjyb2AAxX5cGwGHSVeBnIQqoUBegQICxAB&amp;usg=AOvVaw3Ez2samJVC4nFyUpDAAPxp\"><div class=\"NZWO1b\"><img alt=\"\" class=\"yWs4tf\" src=\"https://encrypted-tbn0.gstatic.com/images?q=tbn:ANd9GcQSqMVopuoMhzTnpuhnjAfvR080iewMJha69ha9x05yq7Rx-yxOB5916SGTgg&amp;s\"/></div></a></td></tr><tr><td><a href=\"/url?q=https://www.pinterest.com/pin/iron-man--1053842381532983740/&amp;sa=U&amp;ved=2ahUKEwjUkuPjyb2AAxX5cGwGHSVeBnIQr4kDegQICxAC&amp;usg=AOvVaw3rgU0pM9X_EhvEjirvjVty\"><div class=\"jB2rPd\"> <span class=\"qXLe6d x3G5ab\"> <span class=\"fYyStc\">Iron man in 2023 | Iron man...</span> </span> <span class=\"qXLe6d F9iS2e\"> <span class=\"fYyStc\">www.pinterest.com</span> </span> </div></a></td></tr></table></div></div> </div> </div></td></tr><tr><td align=\"center\" class=\"e3goi\"><div class=\"mnTahd\"> <div> <div class=\"lIMUZd\"><div><table class=\"IkMU6e\"><tr><td><a href=\"/url?q=https://www.britannica.com/topic/Iron-Man-comic-book-character&amp;sa=U&amp;ved=2ahUKEwjUkuPjyb2AAxX5cGwGHSVeBnIQqoUBegQIARAB&amp;usg=AOvVaw01efwhbSImwNt1vJlHaJ3P\"><div class=\"NZWO1b\"><img alt=\"\" class=\"yWs4tf\" src=\"https://encrypted-tbn0.gstatic.com/images?q=tbn:ANd9GcShF9Fo6bVoilC6rXCjSo_jjFdiDn43aHKFjui9r1caMVpn1oPkS3tKlTw_GZo&amp;s\"/></div></a></td></tr><tr><td><a href=\"/url?q=https://www.britannica.com/topic/Iron-Man-comic-book-character&amp;sa=U&amp;ved=2ahUKEwjUkuPjyb2AAxX5cGwGHSVeBnIQr4kDegQIARAC&amp;usg=AOvVaw2EmB8XCPf1ezXBe051ev02\"><div class=\"jB2rPd\"> <span class=\"qXLe6d x3G5ab\"> <span class=\"fYyStc\">Iron Man | Creators,...</span> </span> <span class=\"qXLe6d F9iS2e\"> <span class=\"fYyStc\">www.britannica.com</span> </span> </div></a></td></tr></table></div></div> </div> </div></td><td align=\"center\" class=\"e3goi\"><div class=\"mnTahd\"> <div> <div class=\"lIMUZd\"><div><table class=\"IkMU6e\"><tr><td><a href=\"/url?q=https://in.pinterest.com/nishantjadav91/iron-man-photos/&amp;sa=U&amp;ved=2ahUKEwjUkuPjyb2AAxX5cGwGHSVeBnIQqoUBegQIAxAB&amp;usg=AOvVaw10UPmcOWt568FIAZ2k3ujx\"><div class=\"NZWO1b\"><img alt=\"\" class=\"yWs4tf\" src=\"https://encrypted-tbn0.gstatic.com/images?q=tbn:ANd9GcQjHC8ubM-wunEzs2MpjTDV7GR8AD4xj3LD9946jxO1JzALWfEk4NUFlb6QAg&amp;s\"/></div></a></td></tr><tr><td><a href=\"/url?q=https://in.pinterest.com/nishantjadav91/iron-man-photos/&amp;sa=U&amp;ved=2ahUKEwjUkuPjyb2AAxX5cGwGHSVeBnIQr4kDegQIAxAC&amp;usg=AOvVaw0gfggrAsSLADYH_3A3VjaP\"><div class=\"jB2rPd\"> <span class=\"qXLe6d x3G5ab\"> <span class=\"fYyStc\">38 Best Iron man photos...</span> </span> <span class=\"qXLe6d F9iS2e\"> <span class=\"fYyStc\">in.pinterest.com</span> </span> </div></a></td></tr></table></div></div> </div> </div></td><td align=\"center\" class=\"e3goi\"><div class=\"mnTahd\"> <div> <div class=\"lIMUZd\"><div><table class=\"IkMU6e\"><tr><td><a href=\"/url?q=https://bgr.com/entertainment/marvel-just-brought-iron-man-back-to-the-mcu-and-we-nearly-missed-it/&amp;sa=U&amp;ved=2ahUKEwjUkuPjyb2AAxX5cGwGHSVeBnIQqoUBegQIBhAB&amp;usg=AOvVaw0IjCE_QbyFzmvaRf5OUydo\"><div class=\"NZWO1b\"><img alt=\"\" class=\"yWs4tf\" src=\"https://encrypted-tbn0.gstatic.com/images?q=tbn:ANd9GcSKUIBEtcYNwd9aH1B9IfW4qQ4sK_Jd2ragI3eHK7_DbU45YHzWTEd_diqJA7k&amp;s\"/></div></a></td></tr><tr><td><a href=\"/url?q=https://bgr.com/entertainment/marvel-just-brought-iron-man-back-to-the-mcu-and-we-nearly-missed-it/&amp;sa=U&amp;ved=2ahUKEwjUkuPjyb2AAxX5cGwGHSVeBnIQr4kDegQIBhAC&amp;usg=AOvVaw0R2ZyLQ2DKEnFfirTKeWQp\"><div class=\"jB2rPd\"> <span class=\"qXLe6d x3G5ab\"> <span class=\"fYyStc\">Marvel brought Iron Man...</span> </span> <span class=\"qXLe6d F9iS2e\"> <span class=\"fYyStc\">bgr.com</span> </span> </div></a></td></tr></table></div></div> </div> </div></td><td align=\"center\" class=\"e3goi\"><div class=\"mnTahd\"> <div> <div class=\"lIMUZd\"><div><table class=\"IkMU6e\"><tr><td><a href=\"/url?q=https://wallpaperaccess.com/iron-man&amp;sa=U&amp;ved=2ahUKEwjUkuPjyb2AAxX5cGwGHSVeBnIQqoUBegQICBAB&amp;usg=AOvVaw38_wrUYhLv7KCDKzQ8GsDG\"><div class=\"NZWO1b\"><img alt=\"\" class=\"yWs4tf\" src=\"https://encrypted-tbn0.gstatic.com/images?q=tbn:ANd9GcSHOAyQqWq1EqPKlBFlshWySLxyuUQTVDm6tZFaDLAjxn2J1viLqiG6nEGu6Gg&amp;s\"/></div></a></td></tr><tr><td><a href=\"/url?q=https://wallpaperaccess.com/iron-man&amp;sa=U&amp;ved=2ahUKEwjUkuPjyb2AAxX5cGwGHSVeBnIQr4kDegQICBAC&amp;usg=AOvVaw1yAvybOWrbpsFXFKoQe2vd\"><div class=\"jB2rPd\"> <span class=\"qXLe6d x3G5ab\"> <span class=\"fYyStc\">Iron Man Wallpapers - Top...</span> </span> <span class=\"qXLe6d F9iS2e\"> <span class=\"fYyStc\">wallpaperaccess.com</span> </span> </div></a></td></tr></table></div></div> </div> </div></td></tr><tr><td align=\"center\" class=\"e3goi\"><div class=\"mnTahd\"> <div> <div class=\"lIMUZd\"><div><table class=\"IkMU6e\"><tr><td><a href=\"/url?q=https://www.rottentomatoes.com/m/iron_man&amp;sa=U&amp;ved=2ahUKEwjUkuPjyb2AAxX5cGwGHSVeBnIQqoUBegQIBBAB&amp;usg=AOvVaw1cY6HmTC-06rbzz7orJmzG\"><div class=\"NZWO1b\"><img alt=\"\" class=\"yWs4tf\" src=\"https://encrypted-tbn0.gstatic.com/images?q=tbn:ANd9GcRLBG3L1wXycwFhxeyYNqrt9ng50dDP5OEInxkQ-OM6hkkIsLMPecoQanBx2w&amp;s\"/></div></a></td></tr><tr><td><a href=\"/url?q=https://www.rottentomatoes.com/m/iron_man&amp;sa=U&amp;ved=2ahUKEwjUkuPjyb2AAxX5cGwGHSVeBnIQr4kDegQIBBAC&amp;usg=AOvVaw1vPFazixItRHRePP52FUfS\"><div class=\"jB2rPd\"> <span class=\"qXLe6d x3G5ab\"> <span class=\"fYyStc\">Iron Man - Rotten Tomatoes</span> </span> <span class=\"qXLe6d F9iS2e\"> <span class=\"fYyStc\">www.rottentomatoes.com</span> </span> </div></a></td></tr></table></div></div> </div> </div></td><td align=\"center\" class=\"e3goi\"><div class=\"mnTahd\"> <div> <div class=\"lIMUZd\"><div><table class=\"IkMU6e\"><tr><td><a href=\"/url?q=https://ironman.fandom.com/wiki/Mark_50&amp;sa=U&amp;ved=2ahUKEwjUkuPjyb2AAxX5cGwGHSVeBnIQqoUBegQIBxAB&amp;usg=AOvVaw1yukrg-B2gECsMrQA1mMB3\"><div class=\"NZWO1b\"><img alt=\"\" class=\"yWs4tf\" src=\"https://encrypted-tbn0.gstatic.com/images?q=tbn:ANd9GcQOLo2zeOjKyiUaX86hYk_5fFsvj81nPxyyEBBlg7AGwiAwCdFYSYbuezshow&amp;s\"/></div></a></td></tr><tr><td><a href=\"/url?q=https://ironman.fandom.com/wiki/Mark_50&amp;sa=U&amp;ved=2ahUKEwjUkuPjyb2AAxX5cGwGHSVeBnIQr4kDegQIBxAC&amp;usg=AOvVaw2MxDRM2ztYGEAzjbwoxXcW\"><div class=\"jB2rPd\"> <span class=\"qXLe6d x3G5ab\"> <span class=\"fYyStc\">Mark 50 | Iron Man Wiki |...</span> </span> <span class=\"qXLe6d F9iS2e\"> <span class=\"fYyStc\">ironman.fandom.com</span> </span> </div></a></td></tr></table></div></div> </div> </div></td><td align=\"center\" class=\"e3goi\"><div class=\"mnTahd\"> <div> <div class=\"lIMUZd\"><div><table class=\"IkMU6e\"><tr><td><a href=\"/url?q=https://twitter.com/Iron_Man&amp;sa=U&amp;ved=2ahUKEwjUkuPjyb2AAxX5cGwGHSVeBnIQqoUBegQIABAB&amp;usg=AOvVaw00_T4aCbF1AFFf8HH-kDjk\"><div class=\"NZWO1b\"><img alt=\"\" class=\"yWs4tf\" src=\"https://encrypted-tbn0.gstatic.com/images?q=tbn:ANd9GcTR4UX431lv3Y3T59GerwH2-uteNKGcCrmqx15b_4fD6jThUDOKlPWE1t6Jgw&amp;s\"/></div></a></td></tr><tr><td><a href=\"/url?q=https://twitter.com/Iron_Man&amp;sa=U&amp;ved=2ahUKEwjUkuPjyb2AAxX5cGwGHSVeBnIQr4kDegQIABAC&amp;usg=AOvVaw1szNGda-rjNhHEXro49PP4\"><div class=\"jB2rPd\"> <span class=\"qXLe6d x3G5ab\"> <span class=\"fYyStc\">Iron Man (@Iron_Man) /...</span> </span> <span class=\"qXLe6d F9iS2e\"> <span class=\"fYyStc\">twitter.com</span> </span> </div></a></td></tr></table></div></div> </div> </div></td><td align=\"center\" class=\"e3goi\"><div class=\"mnTahd\"> <div> <div class=\"lIMUZd\"><div><table class=\"IkMU6e\"><tr><td><a href=\"/url?q=https://www.pinterest.com/pin/774124926392058/&amp;sa=U&amp;ved=2ahUKEwjUkuPjyb2AAxX5cGwGHSVeBnIQqoUBegQIBRAB&amp;usg=AOvVaw1jpARL01YjHuDOkh8m5n3v\"><div class=\"NZWO1b\"><img alt=\"\" class=\"yWs4tf\" src=\"https://encrypted-tbn0.gstatic.com/images?q=tbn:ANd9GcRGf_XH9VAyraurHSv1O0kRZcQAgQTDILtwQEW5oIrwy1aymYNCxIyj9nQH5ig&amp;s\"/></div></a></td></tr><tr><td><a href=\"/url?q=https://www.pinterest.com/pin/774124926392058/&amp;sa=U&amp;ved=2ahUKEwjUkuPjyb2AAxX5cGwGHSVeBnIQr4kDegQIBRAC&amp;usg=AOvVaw1VPbiGQIHcYaWIzFg3KOIL\"><div class=\"jB2rPd\"> <span class=\"qXLe6d x3G5ab\"> <span class=\"fYyStc\">Pin on Personajes de iron...</span> </span> <span class=\"qXLe6d F9iS2e\"> <span class=\"fYyStc\">www.pinterest.com</span> </span> </div></a></td></tr></table></div></div> </div> </div></td></tr></table></div><table class=\"uZgmoc\"><tbody><td><a class=\"frGj1b\" href=\"/search?q=iron+man&amp;biw=1366&amp;bih=611&amp;ie=UTF-8&amp;tbm=isch&amp;ei=aRbKZJS6FPnhseMPpbyZkAc&amp;start=20&amp;sa=N\">Next &gt;</a></td></tbody></table><br/><div class=\"TuS8Ad\" data-ved=\"0ahUKEwjUkuPjyb2AAxX5cGwGHSVeBnIQpyoIUg\"><style>.VYM29{font-weight:bold}</style><div align=\"center\" class=\"HddGcc\"><span class=\"VYM29\">226101, Lucknow, Uttar Pradesh</span><span> - </span><span>From your IP address</span><span> - </span><a href=\"/url?q=https://support.google.com/websearch%3Fp%3Dws_settings_location%26hl%3Den-IN&amp;sa=U&amp;ved=0ahUKEwjUkuPjyb2AAxX5cGwGHSVeBnIQty4IUw&amp;usg=AOvVaw0PoYwmD_lJkHIVUYv9SPJM\">Learn more</a></div><div align=\"center\"><a class=\"rEM8G\" href=\"/url?q=https://accounts.google.com/ServiceLogin%3Fcontinue%3Dhttps://www.google.com/search%253Fsxsrf%253DAB5stBjiBUA7OUgTPwCxSFQBsUcfgjqFmw:1690959954657%2526q%253Diron%252Bman%2526tbm%253Disch%2526source%253Dlnms%2526sa%253DX%2526ved%253D2ahUKEwjtwrTbtL2AAxVmxDgGHTlzC7UQ0pQJegQICxAB%2526biw%253D1366%2526bih%253D611%2526dpr%253D1%26hl%3Den&amp;sa=U&amp;ved=0ahUKEwjUkuPjyb2AAxX5cGwGHSVeBnIQxs8CCFQ&amp;usg=AOvVaw21nztO-U14wRSBu6BmSUu6\">Sign in</a></div><div><table class=\"bookcf\"><tbody class=\"InWNIe\"><tr><td><a class=\"rEM8G\" href=\"https://www.google.com/preferences?hl=en&amp;sa=X&amp;ved=0ahUKEwjUkuPjyb2AAxX5cGwGHSVeBnIQv5YECFU\">Settings</a></td><td><a class=\"rEM8G\" href=\"https://www.google.com/intl/en_in/policies/privacy/\">Privacy</a></td><td><a class=\"rEM8G\" href=\"https://www.google.com/intl/en_in/policies/terms/\">Terms</a></td></tr></tbody></table></div></div><div> </div></body></html>"
      ]
     },
     "execution_count": 41,
     "metadata": {},
     "output_type": "execute_result"
    }
   ],
   "source": [
    "soup"
   ]
  },
  {
   "cell_type": "code",
   "execution_count": 42,
   "id": "45d588fd-ec50-4a47-9a2c-8af081e960cc",
   "metadata": {},
   "outputs": [],
   "source": [
    "image_tags = soup.find_all(\"img\")"
   ]
  },
  {
   "cell_type": "code",
   "execution_count": 43,
   "id": "4593a8c6-6101-45c6-ad2a-785913cbe096",
   "metadata": {},
   "outputs": [],
   "source": [
    "del image_tags[0]"
   ]
  },
  {
   "cell_type": "code",
   "execution_count": 44,
   "id": "ec29fe34-bae6-43f5-87d0-98f3ddaa3c13",
   "metadata": {},
   "outputs": [
    {
     "data": {
      "text/plain": [
       "[<img alt=\"\" class=\"yWs4tf\" src=\"https://encrypted-tbn0.gstatic.com/images?q=tbn:ANd9GcQpv40CTTqqD-lev5owDD_YqzH7Va1aEIPCbgH08xlqJal8PthmppOtTVeH1g&amp;s\"/>,\n",
       " <img alt=\"\" class=\"yWs4tf\" src=\"https://encrypted-tbn0.gstatic.com/images?q=tbn:ANd9GcQ4hmKA4kX0MuO8AuCuf2P3fmHZwutKDPQhfqb5f0ZC6UrPdvbkTjmAnOM1VQ&amp;s\"/>,\n",
       " <img alt=\"\" class=\"yWs4tf\" src=\"https://encrypted-tbn0.gstatic.com/images?q=tbn:ANd9GcQFrdtf_DOLVVikyaoWCaGNFys9OkLQwPPcE8MEevibR7zEsaKKqfc9VQkF3w&amp;s\"/>,\n",
       " <img alt=\"\" class=\"yWs4tf\" src=\"https://encrypted-tbn0.gstatic.com/images?q=tbn:ANd9GcS6EA32V2gQM5jmXCLcjiYjubHoLGWa8yoqShr7hj4Hy7itvUlYodOitHMYSw&amp;s\"/>,\n",
       " <img alt=\"\" class=\"yWs4tf\" src=\"https://encrypted-tbn0.gstatic.com/images?q=tbn:ANd9GcTI3nWdiiqilppvdddxch3w4U3XlLRLkPcJwHB_MGsP34CdlXN-r6cD_vL6MsA&amp;s\"/>,\n",
       " <img alt=\"\" class=\"yWs4tf\" src=\"https://encrypted-tbn0.gstatic.com/images?q=tbn:ANd9GcRMM-NZB3_R2T9TuOlqLNtOlcdcQ_CGe-I4esG8O5xgfmpDZtCzxlWJHCMSrQ&amp;s\"/>,\n",
       " <img alt=\"\" class=\"yWs4tf\" src=\"https://encrypted-tbn0.gstatic.com/images?q=tbn:ANd9GcRukTwV81GQh79YZvvv2-OH_Fmzk1EqkVhvVCOS9q-TD69TLqEdk4Uivtlc0w&amp;s\"/>,\n",
       " <img alt=\"\" class=\"yWs4tf\" src=\"https://encrypted-tbn0.gstatic.com/images?q=tbn:ANd9GcRqhgft2UY9JVlwcnqQamR8iGlXMGk2-4u26R6xy7il2Bf7rXBdcW_NnI3sM94&amp;s\"/>,\n",
       " <img alt=\"\" class=\"yWs4tf\" src=\"https://encrypted-tbn0.gstatic.com/images?q=tbn:ANd9GcRPIi1S7BvW8RvJMq4Bvbr5Yi1rRkUG1E5WiV1BfQ--oYPHv6kNjT_5eDM6fQ&amp;s\"/>,\n",
       " <img alt=\"\" class=\"yWs4tf\" src=\"https://encrypted-tbn0.gstatic.com/images?q=tbn:ANd9GcSMg5Hr42K0nLGyuvBsLW6MIdaUi2KWgAGAEbpeVRam-I_8xEGuoB0xX0TiCCU&amp;s\"/>,\n",
       " <img alt=\"\" class=\"yWs4tf\" src=\"https://encrypted-tbn0.gstatic.com/images?q=tbn:ANd9GcTJ9-YqMcRu0UkxY9dCJEwyeD9ubXTxbgIKbRLHeRt12uHVxEGHxfWVA422yUA&amp;s\"/>,\n",
       " <img alt=\"\" class=\"yWs4tf\" src=\"https://encrypted-tbn0.gstatic.com/images?q=tbn:ANd9GcQSqMVopuoMhzTnpuhnjAfvR080iewMJha69ha9x05yq7Rx-yxOB5916SGTgg&amp;s\"/>,\n",
       " <img alt=\"\" class=\"yWs4tf\" src=\"https://encrypted-tbn0.gstatic.com/images?q=tbn:ANd9GcShF9Fo6bVoilC6rXCjSo_jjFdiDn43aHKFjui9r1caMVpn1oPkS3tKlTw_GZo&amp;s\"/>,\n",
       " <img alt=\"\" class=\"yWs4tf\" src=\"https://encrypted-tbn0.gstatic.com/images?q=tbn:ANd9GcQjHC8ubM-wunEzs2MpjTDV7GR8AD4xj3LD9946jxO1JzALWfEk4NUFlb6QAg&amp;s\"/>,\n",
       " <img alt=\"\" class=\"yWs4tf\" src=\"https://encrypted-tbn0.gstatic.com/images?q=tbn:ANd9GcSKUIBEtcYNwd9aH1B9IfW4qQ4sK_Jd2ragI3eHK7_DbU45YHzWTEd_diqJA7k&amp;s\"/>,\n",
       " <img alt=\"\" class=\"yWs4tf\" src=\"https://encrypted-tbn0.gstatic.com/images?q=tbn:ANd9GcSHOAyQqWq1EqPKlBFlshWySLxyuUQTVDm6tZFaDLAjxn2J1viLqiG6nEGu6Gg&amp;s\"/>,\n",
       " <img alt=\"\" class=\"yWs4tf\" src=\"https://encrypted-tbn0.gstatic.com/images?q=tbn:ANd9GcRLBG3L1wXycwFhxeyYNqrt9ng50dDP5OEInxkQ-OM6hkkIsLMPecoQanBx2w&amp;s\"/>,\n",
       " <img alt=\"\" class=\"yWs4tf\" src=\"https://encrypted-tbn0.gstatic.com/images?q=tbn:ANd9GcQOLo2zeOjKyiUaX86hYk_5fFsvj81nPxyyEBBlg7AGwiAwCdFYSYbuezshow&amp;s\"/>,\n",
       " <img alt=\"\" class=\"yWs4tf\" src=\"https://encrypted-tbn0.gstatic.com/images?q=tbn:ANd9GcTR4UX431lv3Y3T59GerwH2-uteNKGcCrmqx15b_4fD6jThUDOKlPWE1t6Jgw&amp;s\"/>,\n",
       " <img alt=\"\" class=\"yWs4tf\" src=\"https://encrypted-tbn0.gstatic.com/images?q=tbn:ANd9GcRGf_XH9VAyraurHSv1O0kRZcQAgQTDILtwQEW5oIrwy1aymYNCxIyj9nQH5ig&amp;s\"/>]"
      ]
     },
     "execution_count": 44,
     "metadata": {},
     "output_type": "execute_result"
    }
   ],
   "source": [
    "image_tags"
   ]
  },
  {
   "cell_type": "code",
   "execution_count": 45,
   "id": "77bca792-e4f4-4b78-80a0-c5d11e400ad9",
   "metadata": {},
   "outputs": [
    {
     "name": "stdout",
     "output_type": "stream",
     "text": [
      "0\n",
      "1\n",
      "2\n",
      "3\n",
      "4\n",
      "5\n",
      "6\n",
      "7\n",
      "8\n",
      "9\n",
      "10\n",
      "11\n",
      "12\n",
      "13\n",
      "14\n",
      "15\n",
      "16\n",
      "17\n",
      "18\n",
      "19\n"
     ]
    }
   ],
   "source": [
    "for i in image_tags:\n",
    "    print(image_tags.index(i))"
   ]
  },
  {
   "cell_type": "code",
   "execution_count": 46,
   "id": "194a28f7-e016-42dc-a6aa-27543a822660",
   "metadata": {},
   "outputs": [],
   "source": [
    "for i in image_tags:\n",
    "    image_url = i['src']\n",
    "    image_data = requests.get(image_url).content\n",
    "    with open(os.path.join(save_dir, f\"{query}_{image_tags.index(i)}.jpg\"),\"wb\") as f:\n",
    "        f.write(image_data)\n",
    "    "
   ]
  },
  {
   "cell_type": "code",
   "execution_count": null,
   "id": "83c856d1-33a5-4b94-addd-9ec89ab37759",
   "metadata": {},
   "outputs": [],
   "source": []
  }
 ],
 "metadata": {
  "kernelspec": {
   "display_name": "Python 3 (ipykernel)",
   "language": "python",
   "name": "python3"
  },
  "language_info": {
   "codemirror_mode": {
    "name": "ipython",
    "version": 3
   },
   "file_extension": ".py",
   "mimetype": "text/x-python",
   "name": "python",
   "nbconvert_exporter": "python",
   "pygments_lexer": "ipython3",
   "version": "3.11.4"
  }
 },
 "nbformat": 4,
 "nbformat_minor": 5
}
